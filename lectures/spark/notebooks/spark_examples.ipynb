{
 "cells": [
  {
   "cell_type": "markdown",
   "metadata": {},
   "source": [
    "# Programming with RDDs\n",
    "\n",
    "#### Links\n",
    "\n",
    "* https://spark.apache.org/docs/1.6.0/programming-guide.html#resilient-distributed-datasets-rdds\n",
    "* https://spark.apache.org/docs/1.1.1/api/python/pyspark.rdd.RDD-class.html"
   ]
  },
  {
   "cell_type": "code",
   "execution_count": 1,
   "metadata": {
    "scrolled": false
   },
   "outputs": [],
   "source": [
    "%matplotlib inline\n",
    "%config InlineBackend.figure_format ='retina'\n",
    "\n",
    "import os\n",
    "import sys\n",
    "import glob\n",
    "import pickle\n",
    "import seaborn as sns\n",
    "import matplotlib.pyplot as plt\n",
    "import sys\n",
    "sys.path.append('./')\n",
    "\n",
    "from utils import *\n",
    "\n",
    "\n",
    "os.environ[\"PYSPARK_PYTHON\"] = \"/usr/local/bin/python3.5\""
   ]
  },
  {
   "cell_type": "code",
   "execution_count": 271,
   "metadata": {},
   "outputs": [],
   "source": [
    "import json"
   ]
  },
  {
   "cell_type": "code",
   "execution_count": 2,
   "metadata": {},
   "outputs": [
    {
     "name": "stdout",
     "output_type": "stream",
     "text": [
      "Welcome to\r\n",
      "      ____              __\r\n",
      "     / __/__  ___ _____/ /__\r\n",
      "    _\\ \\/ _ \\/ _ `/ __/  '_/\r\n",
      "   /___/ .__/\\_,_/_/ /_/\\_\\   version 1.6.0\r\n",
      "      /_/\r\n",
      "                        \r\n",
      "Type --help for more information.\r\n"
     ]
    }
   ],
   "source": [
    "!spark-submit --version"
   ]
  },
  {
   "cell_type": "markdown",
   "metadata": {},
   "source": [
    "## Запускаем Spark"
   ]
  },
  {
   "cell_type": "code",
   "execution_count": 3,
   "metadata": {},
   "outputs": [],
   "source": [
    "import pyspark\n",
    "from pyspark.conf import SparkConf\n",
    "from pyspark.sql import SQLContext\n",
    "\n",
    "\n",
    "conf = SparkConf()\n",
    "conf.setMaster(\"yarn-client\")\n",
    "# conf.setMaster(\"local[*]\")\n",
    "conf.setAppName(\"spark_examples\")\n",
    "conf.set(\"spark.executor.memory\", \"2g\")\n",
    "conf.set(\"spark.core.connection.ack.wait.timeout\", \"1200\")\n",
    "\n",
    "conf.set(\"spark.executor.instances\", \"2\")  # кол-во  executor'ов\n",
    "conf.set(\"spark.executor.cores\", \"2\")  # сколько ядер у каждого\n",
    "\n",
    "sc = pyspark.SparkContext(conf = conf)\n",
    "sc.addPyFile('./utils.py')\n",
    "sqlContext = SQLContext(sc)"
   ]
  },
  {
   "cell_type": "markdown",
   "metadata": {},
   "source": [
    "## Работа с hdfs\n",
    "\n",
    "Утилитой командной строки -- `hdfs` (https://hadoop.apache.org/docs/current/hadoop-project-dist/hadoop-common/FileSystemShell.html)\n",
    "\n",
    "Полезные команды:\n",
    "* `hdfs dfs -ls [<path>]`\n",
    "* `hdfs dfs -rm <path>`\n",
    "* `hdfs dfs -mv <src> <dst>`\n",
    "* `hdfs dfs -copyToLocal <src> <dst local>`\n",
    "* `hdfs dfs -copyFromLocal <src local> <dst>`\n",
    "\n",
    "\n",
    "### Копирование данных\n",
    "\n",
    "Прежде чем начать работать с самим данными их нужно сохранить в hdfs.\n",
    "\n",
    "1. Запустите terminal через Jupyter\n",
    "2. `hdfs dfs -copyFromLocal data .`\n",
    "\n",
    "\n",
    "Проверяем, что все данные на месте"
   ]
  },
  {
   "cell_type": "code",
   "execution_count": 8,
   "metadata": {},
   "outputs": [
    {
     "name": "stdout",
     "output_type": "stream",
     "text": [
      "/workspace/lectures/spark/notebooks\r\n"
     ]
    }
   ],
   "source": [
    "!pwd"
   ]
  },
  {
   "cell_type": "code",
   "execution_count": 21,
   "metadata": {},
   "outputs": [
    {
     "name": "stdout",
     "output_type": "stream",
     "text": [
      "genome-scores.csv  links.csv\t      movies.csv   README.txt  tmdb.json\r\n",
      "genome-tags.csv    ml-25m-README.htm  ratings.csv  tags.csv\r\n"
     ]
    }
   ],
   "source": [
    "!ls /workspace/data/ml-25m/"
   ]
  },
  {
   "cell_type": "code",
   "execution_count": 23,
   "metadata": {},
   "outputs": [
    {
     "name": "stdout",
     "output_type": "stream",
     "text": [
      "Found 9 items\n",
      "-rw-rw-r--   1 1000 1000      10460 2019-11-21 13:41 file:///workspace/data/ml-25m/README.txt\n",
      "-rw-r--r--   1 1000 1000  435164157 2020-01-12 18:37 file:///workspace/data/ml-25m/genome-scores.csv\n",
      "-rw-r--r--   1 1000 1000      18103 2020-01-12 18:37 file:///workspace/data/ml-25m/genome-tags.csv\n",
      "-rw-r--r--   1 1000 1000    1368578 2020-01-12 18:37 file:///workspace/data/ml-25m/links.csv\n",
      "-rw-r--r--   1 1000 1000      12022 2020-01-10 20:42 file:///workspace/data/ml-25m/ml-25m-README.htm\n",
      "-rw-r--r--   1 1000 1000    3038099 2020-01-12 18:37 file:///workspace/data/ml-25m/movies.csv\n",
      "-rw-r--r--   1 1000 1000  678260987 2020-01-12 18:37 file:///workspace/data/ml-25m/ratings.csv\n",
      "-rw-r--r--   1 1000 1000   38810332 2020-01-12 18:37 file:///workspace/data/ml-25m/tags.csv\n",
      "-rw-r--r--   1 1000 1000  404281742 2020-01-12 18:37 file:///workspace/data/ml-25m/tmdb.json\n"
     ]
    }
   ],
   "source": [
    "!hdfs dfs -ls 'file:///workspace/data/ml-25m/'"
   ]
  },
  {
   "cell_type": "code",
   "execution_count": 25,
   "metadata": {},
   "outputs": [],
   "source": [
    "!hdfs dfs -copyFromLocal 'file:///workspace/data' ."
   ]
  },
  {
   "cell_type": "markdown",
   "metadata": {},
   "source": [
    "### Чтение данных\n",
    "\n",
    "*Замечание*: Файл `ml-25m-README.htm` содержит описание данных"
   ]
  },
  {
   "cell_type": "code",
   "execution_count": 265,
   "metadata": {},
   "outputs": [],
   "source": [
    "DATA_PATH = 'data/ml-25m'\n",
    "\n",
    "RATINGS_PATH = os.path.join(DATA_PATH, 'ratings.csv')\n",
    "MOVIES_PATH = os.path.join(DATA_PATH, 'movies.csv')\n",
    "TAGS_PATH = os.path.join(DATA_PATH, 'tags.csv')\n",
    "LINKS_PATH = os.path.join(DATA_PATH, 'links.csv')\n",
    "TMDB_PATH = os.path.join(DATA_PATH, 'tmdb.json')"
   ]
  },
  {
   "cell_type": "code",
   "execution_count": 27,
   "metadata": {},
   "outputs": [],
   "source": [
    "ratings = sc.textFile(RATINGS_PATH)"
   ]
  },
  {
   "cell_type": "code",
   "execution_count": 28,
   "metadata": {},
   "outputs": [
    {
     "name": "stdout",
     "output_type": "stream",
     "text": [
      "CPU times: user 3.81 ms, sys: 6.22 ms, total: 10 ms\n",
      "Wall time: 2.15 s\n"
     ]
    },
    {
     "data": {
      "text/plain": [
       "['userId,movieId,rating,timestamp',\n",
       " '1,296,5.0,1147880044',\n",
       " '1,306,3.5,1147868817',\n",
       " '1,307,5.0,1147868828',\n",
       " '1,665,5.0,1147878820']"
      ]
     },
     "execution_count": 28,
     "metadata": {},
     "output_type": "execute_result"
    }
   ],
   "source": [
    "%%time\n",
    "ratings.take(5)"
   ]
  },
  {
   "cell_type": "code",
   "execution_count": 29,
   "metadata": {},
   "outputs": [
    {
     "data": {
      "text/plain": [
       "5"
      ]
     },
     "execution_count": 29,
     "metadata": {},
     "output_type": "execute_result"
    }
   ],
   "source": [
    "ratings.getNumPartitions()"
   ]
  },
  {
   "cell_type": "code",
   "execution_count": 30,
   "metadata": {},
   "outputs": [],
   "source": [
    "ratings = ratings \\\n",
    "    .map(lambda s: s.split(',')) \\\n",
    "    .filter(lambda arr: arr[0].isdigit()) \\\n",
    "    .map(lambda arr: Rating(user_id=int(arr[0]), \n",
    "                            movie_id=int(arr[1]), \n",
    "                            rating=float(arr[2]), \n",
    "                            timestamp=int(arr[3])))"
   ]
  },
  {
   "cell_type": "code",
   "execution_count": 31,
   "metadata": {},
   "outputs": [
    {
     "data": {
      "text/plain": [
       "25000095"
      ]
     },
     "execution_count": 31,
     "metadata": {},
     "output_type": "execute_result"
    }
   ],
   "source": [
    "ratings.count()"
   ]
  },
  {
   "cell_type": "markdown",
   "metadata": {},
   "source": [
    "Количество пользователей"
   ]
  },
  {
   "cell_type": "code",
   "execution_count": 32,
   "metadata": {},
   "outputs": [
    {
     "name": "stdout",
     "output_type": "stream",
     "text": [
      "CPU times: user 30.5 ms, sys: 10.1 ms, total: 40.6 ms\n",
      "Wall time: 1min 20s\n"
     ]
    },
    {
     "data": {
      "text/plain": [
       "162541"
      ]
     },
     "execution_count": 32,
     "metadata": {},
     "output_type": "execute_result"
    }
   ],
   "source": [
    "%%time\n",
    "\n",
    "ratings \\\n",
    "    .map(lambda r: r.user_id)\\\n",
    "    .distinct()\\\n",
    "    .count()"
   ]
  },
  {
   "cell_type": "markdown",
   "metadata": {},
   "source": [
    "Сохраним датасет в память"
   ]
  },
  {
   "cell_type": "code",
   "execution_count": 33,
   "metadata": {},
   "outputs": [],
   "source": [
    "ratings = ratings.persist()"
   ]
  },
  {
   "cell_type": "code",
   "execution_count": 34,
   "metadata": {},
   "outputs": [
    {
     "name": "stdout",
     "output_type": "stream",
     "text": [
      "CPU times: user 18.4 ms, sys: 13.7 ms, total: 32.1 ms\n",
      "Wall time: 2min 11s\n"
     ]
    },
    {
     "data": {
      "text/plain": [
       "162541"
      ]
     },
     "execution_count": 34,
     "metadata": {},
     "output_type": "execute_result"
    }
   ],
   "source": [
    "%%time\n",
    "\n",
    "ratings \\\n",
    "    .map(lambda r: r.user_id)\\\n",
    "    .distinct()\\\n",
    "    .count()"
   ]
  },
  {
   "cell_type": "markdown",
   "metadata": {},
   "source": [
    "Количество фильмов"
   ]
  },
  {
   "cell_type": "code",
   "execution_count": 35,
   "metadata": {},
   "outputs": [
    {
     "name": "stdout",
     "output_type": "stream",
     "text": [
      "CPU times: user 14.9 ms, sys: 4.14 ms, total: 19.1 ms\n",
      "Wall time: 37.2 s\n"
     ]
    },
    {
     "data": {
      "text/plain": [
       "59047"
      ]
     },
     "execution_count": 35,
     "metadata": {},
     "output_type": "execute_result"
    }
   ],
   "source": [
    "%%time\n",
    "\n",
    "ratings \\\n",
    "    .map(lambda r: r.movie_id)\\\n",
    "    .distinct()\\\n",
    "    .count()"
   ]
  },
  {
   "cell_type": "markdown",
   "metadata": {},
   "source": [
    "## Упражнения"
   ]
  },
  {
   "cell_type": "markdown",
   "metadata": {},
   "source": [
    "### Фильмы с наибольшим средним рейтингом\n",
    "\n",
    "Найти 10 фильмов с наибольшим средним рейтингом. Вывести их названия и средний рейтинг"
   ]
  },
  {
   "cell_type": "code",
   "execution_count": 63,
   "metadata": {},
   "outputs": [
    {
     "data": {
      "text/plain": [
       "['movieId,title,genres',\n",
       " '1,Toy Story (1995),Adventure|Animation|Children|Comedy|Fantasy',\n",
       " '2,Jumanji (1995),Adventure|Children|Fantasy',\n",
       " '3,Grumpier Old Men (1995),Comedy|Romance',\n",
       " '4,Waiting to Exhale (1995),Comedy|Drama|Romance']"
      ]
     },
     "execution_count": 63,
     "metadata": {},
     "output_type": "execute_result"
    }
   ],
   "source": [
    "movies = sc.textFile(MOVIES_PATH)\n",
    "movies.take(5)"
   ]
  },
  {
   "cell_type": "code",
   "execution_count": 58,
   "metadata": {},
   "outputs": [
    {
     "data": {
      "text/plain": [
       "[(296, (5.0, 1)),\n",
       " (306, (3.5, 1)),\n",
       " (307, (5.0, 1)),\n",
       " (665, (5.0, 1)),\n",
       " (899, (3.5, 1)),\n",
       " (1088, (4.0, 1)),\n",
       " (1175, (3.5, 1)),\n",
       " (1217, (3.5, 1)),\n",
       " (1237, (5.0, 1)),\n",
       " (1250, (4.0, 1))]"
      ]
     },
     "execution_count": 58,
     "metadata": {},
     "output_type": "execute_result"
    }
   ],
   "source": [
    "ratings.map(lambda r: (r.movie_id, (r.rating, 1))).take(10)"
   ]
  },
  {
   "cell_type": "code",
   "execution_count": 59,
   "metadata": {},
   "outputs": [
    {
     "data": {
      "text/plain": [
       "[(32770, (589.5, 165)),\n",
       " (5, (35826.5, 11714)),\n",
       " (196615, (3.5, 1)),\n",
       " (131080, (291.0, 97)),\n",
       " (10, (96707.5, 28265)),\n",
       " (15, (7504.5, 2760)),\n",
       " (131090, (5.5, 2)),\n",
       " (20, (11020.5, 3840)),\n",
       " (98325, (9.5, 3)),\n",
       " (25, (73803.5, 20070))]"
      ]
     },
     "execution_count": 59,
     "metadata": {},
     "output_type": "execute_result"
    }
   ],
   "source": [
    "ratings.map(lambda r: (r.movie_id, (r.rating, 1))).reduceByKey(lambda a, b: (a[0] + b[0], a[1] + b[1])).take(10)"
   ]
  },
  {
   "cell_type": "code",
   "execution_count": 60,
   "metadata": {},
   "outputs": [
    {
     "data": {
      "text/plain": [
       "[(32770, 3.5727272727272728),\n",
       " (5, 3.0584343520573674),\n",
       " (196615, 3.5),\n",
       " (131080, 3.0),\n",
       " (10, 3.42145763311516),\n",
       " (15, 2.7190217391304348),\n",
       " (131090, 2.75),\n",
       " (20, 2.869921875),\n",
       " (98325, 3.1666666666666665),\n",
       " (25, 3.677304434479322)]"
      ]
     },
     "execution_count": 60,
     "metadata": {},
     "output_type": "execute_result"
    }
   ],
   "source": [
    "ratings \\\n",
    "    .map(lambda r: (r.movie_id, (r.rating, 1))) \\\n",
    "    .reduceByKey(lambda a, b: (a[0] + b[0], a[1] + b[1])) \\\n",
    "    .mapValues(lambda ratings: ratings[0] / ratings[1]).take(10)"
   ]
  },
  {
   "cell_type": "code",
   "execution_count": 64,
   "metadata": {},
   "outputs": [
    {
     "data": {
      "text/plain": [
       "[(196959, (5.0, ['196959', 'I Am JFK Jr. (2016)'])),\n",
       " (180663, (5.0, ['180663', '\"Goodbye'])),\n",
       " (147966, (5.0, ['147966', \"Tarzan's Fight for Life (1958)\"])),\n",
       " (131628, (5.0, ['131628', 'Loaded (2014)'])),\n",
       " (131922, (5.0, ['131922', 'Private Duty Nurses (1971)'])),\n",
       " (164787, (5.0, ['164787', 'You Cast A Spell On Me (2015)'])),\n",
       " (132321, (5.0, ['132321', 'Black Oak Conspiracy (1977)'])),\n",
       " (165221, (5.0, ['165221', 'Elf Bowling the Movie (2007)'])),\n",
       " (149268, (5.0, ['149268', 'The Pied Piper (1942)'])),\n",
       " (175077, (5.0, ['175077', 'Fatal Call (2012)']))]"
      ]
     },
     "execution_count": 64,
     "metadata": {},
     "output_type": "execute_result"
    }
   ],
   "source": [
    "movies = movies \\\n",
    "    .map(lambda s: s.split(',')[:2]) \\\n",
    "    .filter(lambda arr: arr[0].isdigit()) \\\n",
    "    .keyBy(lambda arr: int(arr[0]))\n",
    "\n",
    "movie_avg_rating = ratings \\\n",
    "    .map(lambda r: (r.movie_id, (r.rating, 1))) \\\n",
    "    .reduceByKey(lambda a, b: (a[0] + b[0], a[1] + b[1])) \\\n",
    "    .mapValues(lambda ratings: ratings[0] / ratings[1])\n",
    "\n",
    "movie_avg_rating \\\n",
    "    .join(movies) \\\n",
    "    .sortBy(lambda key_value: key_value[1][0], ascending=False)\\\n",
    "    .take(10)"
   ]
  },
  {
   "cell_type": "markdown",
   "metadata": {},
   "source": [
    "Сохраните `rdd`, состоящий из строк вида `<movie_id>,<average_rating>` на hdfs в виде текстового файла"
   ]
  },
  {
   "cell_type": "code",
   "execution_count": 70,
   "metadata": {},
   "outputs": [
    {
     "name": "stdout",
     "output_type": "stream",
     "text": [
      "Found 9 items\n",
      "-rw-rw-r--   1 1000 1000      10460 2019-11-21 13:41 file:///workspace/data/ml-25m/README.txt\n",
      "-rw-r--r--   1 1000 1000  435164157 2020-01-12 18:37 file:///workspace/data/ml-25m/genome-scores.csv\n",
      "-rw-r--r--   1 1000 1000      18103 2020-01-12 18:37 file:///workspace/data/ml-25m/genome-tags.csv\n",
      "-rw-r--r--   1 1000 1000    1368578 2020-01-12 18:37 file:///workspace/data/ml-25m/links.csv\n",
      "-rw-r--r--   1 1000 1000      12022 2020-01-10 20:42 file:///workspace/data/ml-25m/ml-25m-README.htm\n",
      "-rw-r--r--   1 1000 1000    3038099 2020-01-12 18:37 file:///workspace/data/ml-25m/movies.csv\n",
      "-rw-r--r--   1 1000 1000  678260987 2020-01-12 18:37 file:///workspace/data/ml-25m/ratings.csv\n",
      "-rw-r--r--   1 1000 1000   38810332 2020-01-12 18:37 file:///workspace/data/ml-25m/tags.csv\n",
      "-rw-r--r--   1 1000 1000  404281742 2020-01-12 18:37 file:///workspace/data/ml-25m/tmdb.json\n"
     ]
    }
   ],
   "source": [
    "!hdfs dfs -ls 'file:///workspace/data/ml-25m/'"
   ]
  },
  {
   "cell_type": "code",
   "execution_count": 71,
   "metadata": {},
   "outputs": [
    {
     "data": {
      "text/plain": [
       "'data/ml-25m/movie_avg_rating'"
      ]
     },
     "execution_count": 71,
     "metadata": {},
     "output_type": "execute_result"
    }
   ],
   "source": [
    "os.path.join(DATA_PATH, 'movie_avg_rating')"
   ]
  },
  {
   "cell_type": "code",
   "execution_count": null,
   "metadata": {},
   "outputs": [],
   "source": []
  },
  {
   "cell_type": "code",
   "execution_count": null,
   "metadata": {},
   "outputs": [],
   "source": [
    "movie_avg_rating\\\n",
    "    .repartition(10) \\\n",
    "    .saveAsTextFile(os.path.join(DATA_PATH, 'movie_avg_rating'))"
   ]
  },
  {
   "cell_type": "code",
   "execution_count": null,
   "metadata": {},
   "outputs": [],
   "source": []
  },
  {
   "cell_type": "code",
   "execution_count": 72,
   "metadata": {},
   "outputs": [
    {
     "name": "stdout",
     "output_type": "stream",
     "text": [
      "Found 11 items\r\n",
      "-rw-r--r--   1 root supergroup          0 2021-02-17 13:11 data/ml-25m/movie_avg_rating/_SUCCESS\r\n",
      "-rw-r--r--   1 root supergroup      58962 2021-02-17 13:11 data/ml-25m/movie_avg_rating/part-00000\r\n",
      "-rw-r--r--   1 root supergroup     112506 2021-02-17 13:11 data/ml-25m/movie_avg_rating/part-00001\r\n",
      "-rw-r--r--   1 root supergroup     131450 2021-02-17 13:11 data/ml-25m/movie_avg_rating/part-00002\r\n",
      "-rw-r--r--   1 root supergroup     114305 2021-02-17 13:11 data/ml-25m/movie_avg_rating/part-00003\r\n",
      "-rw-r--r--   1 root supergroup     133476 2021-02-17 13:11 data/ml-25m/movie_avg_rating/part-00004\r\n",
      "-rw-r--r--   1 root supergroup     117792 2021-02-17 13:11 data/ml-25m/movie_avg_rating/part-00005\r\n",
      "-rw-r--r--   1 root supergroup     143092 2021-02-17 13:11 data/ml-25m/movie_avg_rating/part-00006\r\n",
      "-rw-r--r--   1 root supergroup     132298 2021-02-17 13:11 data/ml-25m/movie_avg_rating/part-00007\r\n",
      "-rw-r--r--   1 root supergroup     167639 2021-02-17 13:11 data/ml-25m/movie_avg_rating/part-00008\r\n",
      "-rw-r--r--   1 root supergroup     100311 2021-02-17 13:11 data/ml-25m/movie_avg_rating/part-00009\r\n"
     ]
    }
   ],
   "source": [
    "! hdfs dfs -ls data/ml-25m/movie_avg_rating"
   ]
  },
  {
   "cell_type": "markdown",
   "metadata": {},
   "source": [
    "### Популярность тэгов\n",
    "\n",
    "Найти 20 наиболее популярных тэгов"
   ]
  },
  {
   "cell_type": "code",
   "execution_count": 73,
   "metadata": {},
   "outputs": [
    {
     "data": {
      "text/plain": [
       "['userId,movieId,tag,timestamp',\n",
       " '3,260,classic,1439472355',\n",
       " '3,260,sci-fi,1439472256',\n",
       " '4,1732,dark comedy,1573943598',\n",
       " '4,1732,great dialogue,1573943604']"
      ]
     },
     "execution_count": 73,
     "metadata": {},
     "output_type": "execute_result"
    }
   ],
   "source": [
    "tags = sc.textFile(TAGS_PATH)\n",
    "tags.take(5)"
   ]
  },
  {
   "cell_type": "code",
   "execution_count": 74,
   "metadata": {},
   "outputs": [
    {
     "data": {
      "text/plain": [
       "[('tag', 1),\n",
       " ('classic', 1),\n",
       " ('sci-fi', 1),\n",
       " ('dark comedy', 1),\n",
       " ('great dialogue', 1),\n",
       " (\"so bad it's good\", 1),\n",
       " ('unreliable narrators', 1),\n",
       " ('tense', 1),\n",
       " ('artificial intelligence', 1),\n",
       " ('philosophical', 1)]"
      ]
     },
     "execution_count": 74,
     "metadata": {},
     "output_type": "execute_result"
    }
   ],
   "source": [
    "tags\\\n",
    "    .map(lambda s: (s.split(',')[2], 1)).take(10)"
   ]
  },
  {
   "cell_type": "code",
   "execution_count": 75,
   "metadata": {},
   "outputs": [
    {
     "data": {
      "text/plain": [
       "[('Sam Fell', 3),\n",
       " ('Charlie Sheen', 68),\n",
       " ('reminiscence', 1),\n",
       " ('Sign language', 3),\n",
       " ('biological attack', 2),\n",
       " ('salvador dalí', 1),\n",
       " ('thalassophobia', 1),\n",
       " ('stb', 1),\n",
       " ('space opera', 346),\n",
       " ('cell mate', 2)]"
      ]
     },
     "execution_count": 75,
     "metadata": {},
     "output_type": "execute_result"
    }
   ],
   "source": [
    "tags\\\n",
    "    .map(lambda s: (s.split(',')[2], 1))\\\n",
    "    .reduceByKey(lambda a, b: a + b).take(10)"
   ]
  },
  {
   "cell_type": "code",
   "execution_count": 77,
   "metadata": {},
   "outputs": [
    {
     "data": {
      "text/plain": [
       "73016"
      ]
     },
     "execution_count": 77,
     "metadata": {},
     "output_type": "execute_result"
    }
   ],
   "source": [
    "tags_count = tags\\\n",
    "    .map(lambda s: (s.split(',')[2], 1))\\\n",
    "    .reduceByKey(lambda a, b: a + b)\\\n",
    "    .collect()\n",
    "\n",
    "len(tags_count)"
   ]
  },
  {
   "cell_type": "code",
   "execution_count": 78,
   "metadata": {},
   "outputs": [],
   "source": [
    "tags_count = sorted(tags_count, key=lambda tag_count: tag_count[1], reverse=True)"
   ]
  },
  {
   "cell_type": "code",
   "execution_count": 79,
   "metadata": {},
   "outputs": [
    {
     "data": {
      "image/png": "[encoded data removed]",
      "text/plain": [
       "<Figure size 720x432 with 1 Axes>"
      ]
     },
     "metadata": {
      "image/png": {
       "height": 489,
       "width": 606
      },
      "needs_background": "light"
     },
     "output_type": "display_data"
    }
   ],
   "source": [
    "keys, values = zip(*tags_count[:20])\n",
    "\n",
    "f, ax = plt.subplots(figsize=(10, 6))\n",
    "plt.xticks(rotation=85, fontsize=15)\n",
    "plt.bar(keys, values, align=\"center\")\n",
    "plt.show()"
   ]
  },
  {
   "cell_type": "markdown",
   "metadata": {},
   "source": [
    "### Фильмы с наибольшим числом оценок\n",
    "\n",
    "Найти 10 фильмов с наибольшим числом оценок. Вывести их названия и число оценок"
   ]
  },
  {
   "cell_type": "code",
   "execution_count": 85,
   "metadata": {},
   "outputs": [],
   "source": [
    "ratings = sc.textFile(RATINGS_PATH)"
   ]
  },
  {
   "cell_type": "code",
   "execution_count": 88,
   "metadata": {},
   "outputs": [],
   "source": [
    "ratings = ratings \\\n",
    "    .map(lambda s: s.split(',')) \\\n",
    "    .filter(lambda arr: arr[0].isdigit()) \\\n",
    "    .map(lambda arr: Rating(user_id=int(arr[0]), \n",
    "                            movie_id=int(arr[1]), \n",
    "                            rating=float(arr[2]), \n",
    "                            timestamp=int(arr[3])))"
   ]
  },
  {
   "cell_type": "code",
   "execution_count": 95,
   "metadata": {},
   "outputs": [],
   "source": [
    "movies = sc.textFile(MOVIES_PATH)"
   ]
  },
  {
   "cell_type": "code",
   "execution_count": 96,
   "metadata": {},
   "outputs": [],
   "source": [
    "movies = movies \\\n",
    "    .map(lambda s: s.split(',')[:2]) \\\n",
    "    .filter(lambda arr: arr[0].isdigit()) \\\n",
    "    .keyBy(lambda arr: int(arr[0]))"
   ]
  },
  {
   "cell_type": "code",
   "execution_count": 90,
   "metadata": {},
   "outputs": [
    {
     "data": {
      "text/plain": [
       "[(296, 1),\n",
       " (306, 1),\n",
       " (307, 1),\n",
       " (665, 1),\n",
       " (899, 1),\n",
       " (1088, 1),\n",
       " (1175, 1),\n",
       " (1217, 1),\n",
       " (1237, 1),\n",
       " (1250, 1)]"
      ]
     },
     "execution_count": 90,
     "metadata": {},
     "output_type": "execute_result"
    }
   ],
   "source": [
    "ratings.map(lambda r: (r.movie_id, 1)).take(10)"
   ]
  },
  {
   "cell_type": "code",
   "execution_count": 92,
   "metadata": {},
   "outputs": [
    {
     "data": {
      "text/plain": [
       "[(32770, 165),\n",
       " (5, 11714),\n",
       " (196615, 1),\n",
       " (131080, 97),\n",
       " (10, 28265),\n",
       " (15, 2760),\n",
       " (131090, 2),\n",
       " (20, 3840),\n",
       " (98325, 3),\n",
       " (25, 20070)]"
      ]
     },
     "execution_count": 92,
     "metadata": {},
     "output_type": "execute_result"
    }
   ],
   "source": [
    "ratings.map(lambda r: (r.movie_id, 1)).reduceByKey(lambda a, b: a + b).take(10)"
   ]
  },
  {
   "cell_type": "code",
   "execution_count": 108,
   "metadata": {},
   "outputs": [],
   "source": [
    "num_ratings = ratings.map(lambda r: (r.movie_id, 1)).reduceByKey(lambda a, b: a + b)"
   ]
  },
  {
   "cell_type": "code",
   "execution_count": 109,
   "metadata": {},
   "outputs": [
    {
     "data": {
      "text/plain": [
       "[(32770, 165),\n",
       " (5, 11714),\n",
       " (196615, 1),\n",
       " (131080, 97),\n",
       " (10, 28265),\n",
       " (15, 2760),\n",
       " (131090, 2),\n",
       " (20, 3840),\n",
       " (98325, 3),\n",
       " (25, 20070)]"
      ]
     },
     "execution_count": 109,
     "metadata": {},
     "output_type": "execute_result"
    }
   ],
   "source": [
    "num_ratings.take(10)"
   ]
  },
  {
   "cell_type": "code",
   "execution_count": 112,
   "metadata": {},
   "outputs": [
    {
     "data": {
      "text/plain": [
       "[(356, 81491),\n",
       " (318, 81482),\n",
       " (296, 79672),\n",
       " (593, 74127),\n",
       " (2571, 72674),\n",
       " (260, 68717),\n",
       " (480, 64144),\n",
       " (527, 60411),\n",
       " (110, 59184),\n",
       " (2959, 58773)]"
      ]
     },
     "execution_count": 112,
     "metadata": {},
     "output_type": "execute_result"
    }
   ],
   "source": [
    "num_ratings.sortBy(lambda x: x[1], ascending=False).take(10)"
   ]
  },
  {
   "cell_type": "code",
   "execution_count": 114,
   "metadata": {},
   "outputs": [
    {
     "data": {
      "text/plain": [
       "[(356, (81491, ['356', 'Forrest Gump (1994)'])),\n",
       " (318, (81482, ['318', '\"Shawshank Redemption'])),\n",
       " (296, (79672, ['296', 'Pulp Fiction (1994)'])),\n",
       " (593, (74127, ['593', '\"Silence of the Lambs'])),\n",
       " (2571, (72674, ['2571', '\"Matrix'])),\n",
       " (260, (68717, ['260', 'Star Wars: Episode IV - A New Hope (1977)'])),\n",
       " (480, (64144, ['480', 'Jurassic Park (1993)'])),\n",
       " (527, (60411, ['527', \"Schindler's List (1993)\"])),\n",
       " (110, (59184, ['110', 'Braveheart (1995)'])),\n",
       " (2959, (58773, ['2959', 'Fight Club (1999)']))]"
      ]
     },
     "execution_count": 114,
     "metadata": {},
     "output_type": "execute_result"
    }
   ],
   "source": [
    "num_ratings \\\n",
    "    .join(movies) \\\n",
    "    .sortBy(lambda x: x[1], ascending=False)\\\n",
    "    .take(10)"
   ]
  },
  {
   "cell_type": "markdown",
   "metadata": {},
   "source": [
    "**фильмы с наибольшим числом оценок**"
   ]
  },
  {
   "cell_type": "code",
   "execution_count": 118,
   "metadata": {},
   "outputs": [
    {
     "data": {
      "text/plain": [
       "[('Forrest Gump (1994)', 81491),\n",
       " ('\"Shawshank Redemption', 81482),\n",
       " ('Pulp Fiction (1994)', 79672),\n",
       " ('\"Silence of the Lambs', 74127),\n",
       " ('\"Matrix', 72674),\n",
       " ('Star Wars: Episode IV - A New Hope (1977)', 68717),\n",
       " ('Jurassic Park (1993)', 64144),\n",
       " (\"Schindler's List (1993)\", 60411),\n",
       " ('Braveheart (1995)', 59184),\n",
       " ('Fight Club (1999)', 58773)]"
      ]
     },
     "execution_count": 118,
     "metadata": {},
     "output_type": "execute_result"
    }
   ],
   "source": [
    "num_ratings \\\n",
    "    .join(movies) \\\n",
    "    .sortBy(lambda x: x[1], ascending=False)\\\n",
    "    .map(lambda r: (r[1][1][1], r[1][0]))\\\n",
    "    .take(10)"
   ]
  },
  {
   "cell_type": "markdown",
   "metadata": {},
   "source": [
    "### Фильмы с наибольшим числом 5\n",
    "\n",
    "Найти 10 фильмов с наибольшим числом 5ок в качестве оценки. Вывести их названия и число 5ок"
   ]
  },
  {
   "cell_type": "code",
   "execution_count": 134,
   "metadata": {},
   "outputs": [
    {
     "data": {
      "text/plain": [
       "[(296, (5.0, 1)),\n",
       " (306, (3.5, 1)),\n",
       " (307, (5.0, 1)),\n",
       " (665, (5.0, 1)),\n",
       " (899, (3.5, 1)),\n",
       " (1088, (4.0, 1)),\n",
       " (1175, (3.5, 1)),\n",
       " (1217, (3.5, 1)),\n",
       " (1237, (5.0, 1)),\n",
       " (1250, (4.0, 1))]"
      ]
     },
     "execution_count": 134,
     "metadata": {},
     "output_type": "execute_result"
    }
   ],
   "source": [
    "ratings.map(lambda r: (r.movie_id, (r.rating, 1))).take(10)"
   ]
  },
  {
   "cell_type": "code",
   "execution_count": 138,
   "metadata": {},
   "outputs": [
    {
     "data": {
      "text/plain": [
       "[(296, (5.0, 1)),\n",
       " (307, (5.0, 1)),\n",
       " (665, (5.0, 1)),\n",
       " (1237, (5.0, 1)),\n",
       " (2632, (5.0, 1)),\n",
       " (2692, (5.0, 1)),\n",
       " (3569, (5.0, 1)),\n",
       " (3949, (5.0, 1)),\n",
       " (4144, (5.0, 1)),\n",
       " (4325, (5.0, 1))]"
      ]
     },
     "execution_count": 138,
     "metadata": {},
     "output_type": "execute_result"
    }
   ],
   "source": [
    "ratings\\\n",
    "    .map(lambda r: (r.movie_id, (r.rating, 1)))\\\n",
    "    .filter(lambda triple: triple[1][0] == 5.0)\\\n",
    "    .take(10)"
   ]
  },
  {
   "cell_type": "code",
   "execution_count": 145,
   "metadata": {},
   "outputs": [
    {
     "data": {
      "text/plain": [
       "[(122880, (5.0, 3)),\n",
       " (32770, (5.0, 10)),\n",
       " (8195, (5.0, 136)),\n",
       " (5, (5.0, 840)),\n",
       " (131080, (5.0, 8)),\n",
       " (117420, (5.0, 1)),\n",
       " (10, (5.0, 2513)),\n",
       " (180235, (5.0, 2)),\n",
       " (114700, (5.0, 6)),\n",
       " (73730, (5.0, 1))]"
      ]
     },
     "execution_count": 145,
     "metadata": {},
     "output_type": "execute_result"
    }
   ],
   "source": [
    "ratings\\\n",
    "    .map(lambda r: (r.movie_id, (r.rating, 1)))\\\n",
    "    .filter(lambda triple: triple[1][0] == 5.0)\\\n",
    "    .reduceByKey(lambda a, b: (a[0], a[1] + b[1])).take(10)"
   ]
  },
  {
   "cell_type": "code",
   "execution_count": 147,
   "metadata": {},
   "outputs": [],
   "source": [
    "counts = ratings\\\n",
    "         .map(lambda r: (r.movie_id, (r.rating, 1)))\\\n",
    "         .filter(lambda triple: triple[1][0] == 5.0)\\\n",
    "         .reduceByKey(lambda a, b: (a[0], a[1] + b[1]))"
   ]
  },
  {
   "cell_type": "code",
   "execution_count": 151,
   "metadata": {},
   "outputs": [
    {
     "data": {
      "text/plain": [
       "[(7, ((5.0, 1387), ['7', 'Sabrina (1995)'])),\n",
       " (166572, ((5.0, 2), ['166572', \"Rules Don't Apply (2016)\"])),\n",
       " (79191, ((5.0, 1), ['79191', 'Roadracers (1994)'])),\n",
       " (14, ((5.0, 618), ['14', 'Nixon (1995)'])),\n",
       " (32788, ((5.0, 4), ['32788', 'Loners (Samotári) (2000)'])),\n",
       " (21, ((5.0, 3120), ['21', 'Get Shorty (1995)'])),\n",
       " (28, ((5.0, 960), ['28', 'Persuasion (1995)'])),\n",
       " (196637, ((5.0, 1), ['196637', 'The Breakup Girl (2015)'])),\n",
       " (180257, ((5.0, 1), ['180257', 'Evil Bong II: King Bong (2009)'])),\n",
       " (35, ((5.0, 193), ['35', 'Carrington (1995)']))]"
      ]
     },
     "execution_count": 151,
     "metadata": {},
     "output_type": "execute_result"
    }
   ],
   "source": [
    "counts.join(movies).take(10)"
   ]
  },
  {
   "cell_type": "markdown",
   "metadata": {},
   "source": [
    "**10 фильмов с наибольшим числом 5ок в качестве оценки**"
   ]
  },
  {
   "cell_type": "code",
   "execution_count": 153,
   "metadata": {},
   "outputs": [
    {
     "data": {
      "text/plain": [
       "[('\"Shawshank Redemption', 39553),\n",
       " ('Pulp Fiction (1994)', 32169),\n",
       " ('Forrest Gump (1994)', 25918),\n",
       " ('Star Wars: Episode IV - A New Hope (1977)', 25804),\n",
       " ('\"Matrix', 25482),\n",
       " (\"Schindler's List (1993)\", 24853),\n",
       " ('\"Silence of the Lambs', 24801),\n",
       " ('\"Godfather', 24418),\n",
       " ('\"Usual Suspects', 21585),\n",
       " ('Fight Club (1999)', 21486)]"
      ]
     },
     "execution_count": 153,
     "metadata": {},
     "output_type": "execute_result"
    }
   ],
   "source": [
    "counts\\\n",
    "    .join(movies)\\\n",
    "    .map(lambda x: (x[1][1][1], x[1][0][1]))\\\n",
    "    .sortBy(lambda x: x[1], ascending=False)\\\n",
    "    .take(10)"
   ]
  },
  {
   "cell_type": "markdown",
   "metadata": {},
   "source": [
    "### Распределение рейтингов фильмов\n",
    "\n",
    "Построить распределение фильмов по ср. рейтингам  (гистограмму)"
   ]
  },
  {
   "cell_type": "code",
   "execution_count": 156,
   "metadata": {},
   "outputs": [
    {
     "data": {
      "text/plain": [
       "[(32770, (589.5, 165)),\n",
       " (5, (35826.5, 11714)),\n",
       " (196615, (3.5, 1)),\n",
       " (131080, (291.0, 97)),\n",
       " (10, (96707.5, 28265)),\n",
       " (15, (7504.5, 2760)),\n",
       " (131090, (5.5, 2)),\n",
       " (20, (11020.5, 3840)),\n",
       " (98325, (9.5, 3)),\n",
       " (25, (73803.5, 20070))]"
      ]
     },
     "execution_count": 156,
     "metadata": {},
     "output_type": "execute_result"
    }
   ],
   "source": [
    "ratings\\\n",
    "    .map(lambda r: (r.movie_id, (r.rating, 1)))\\\n",
    "    .reduceByKey(lambda a, b: (a[0] + b[0], a[1] + b[1])).take(10)"
   ]
  },
  {
   "cell_type": "code",
   "execution_count": 157,
   "metadata": {},
   "outputs": [
    {
     "data": {
      "text/plain": [
       "[(32770, 3.5727272727272728),\n",
       " (5, 3.0584343520573674),\n",
       " (196615, 3.5),\n",
       " (131080, 3.0),\n",
       " (10, 3.42145763311516),\n",
       " (15, 2.7190217391304348),\n",
       " (131090, 2.75),\n",
       " (20, 2.869921875),\n",
       " (98325, 3.1666666666666665),\n",
       " (25, 3.677304434479322)]"
      ]
     },
     "execution_count": 157,
     "metadata": {},
     "output_type": "execute_result"
    }
   ],
   "source": [
    "ratings\\\n",
    "    .map(lambda r: (r.movie_id, (r.rating, 1)))\\\n",
    "    .reduceByKey(lambda a, b: (a[0] + b[0], a[1] + b[1]))\\\n",
    "    .map(lambda triple: (triple[0], triple[1][0] / triple[1][1])).take(10)"
   ]
  },
  {
   "cell_type": "code",
   "execution_count": 160,
   "metadata": {},
   "outputs": [],
   "source": [
    "mean_ratings = ratings\\\n",
    "               .map(lambda r: (r.movie_id, (r.rating, 1)))\\\n",
    "               .reduceByKey(lambda a, b: (a[0] + b[0], a[1] + b[1]))\\\n",
    "               .map(lambda triple: (triple[1][0] / triple[1][1]))\\\n",
    "               .collect()"
   ]
  },
  {
   "cell_type": "code",
   "execution_count": 168,
   "metadata": {},
   "outputs": [
    {
     "data": {
      "image/png": "[encoded data removed]",
      "text/plain": [
       "<Figure size 720x576 with 1 Axes>"
      ]
     },
     "metadata": {
      "image/png": {
       "height": 481,
       "width": 613
      },
      "needs_background": "light"
     },
     "output_type": "display_data"
    }
   ],
   "source": [
    "plt.figure(figsize=(10, 8))\n",
    "plt.title('Распределение рейтингов фильмов')\n",
    "plt.hist(mean_ratings)\n",
    "plt.show()"
   ]
  },
  {
   "cell_type": "markdown",
   "metadata": {},
   "source": [
    "### Распределение числа оценок для фильмов\n",
    "\n",
    "Построить распределение фильмов по числу оценок"
   ]
  },
  {
   "cell_type": "code",
   "execution_count": 214,
   "metadata": {},
   "outputs": [],
   "source": [
    "num_ratings = ratings\\\n",
    "              .map(lambda r: (r.movie_id, 1))\\\n",
    "              .reduceByKey(lambda a, b: a + b)\\\n",
    "              .map(lambda x: x[1])"
   ]
  },
  {
   "cell_type": "code",
   "execution_count": 212,
   "metadata": {},
   "outputs": [
    {
     "data": {
      "image/png": "[encoded data removed]",
      "text/plain": [
       "<Figure size 720x576 with 1 Axes>"
      ]
     },
     "metadata": {
      "image/png": {
       "height": 481,
       "width": 613
      },
      "needs_background": "light"
     },
     "output_type": "display_data"
    }
   ],
   "source": [
    "plt.figure(figsize=(10, 8))\n",
    "plt.title('Распределение фильмов по числу оценок')\n",
    "plt.hist(num_ratings.collect())\n",
    "plt.show()"
   ]
  },
  {
   "cell_type": "markdown",
   "metadata": {},
   "source": [
    "Давайте посмотрим на фильмы, у которых не слишком большое и не слишком маленькое число оценок (<1000 и больше 100)"
   ]
  },
  {
   "cell_type": "code",
   "execution_count": 215,
   "metadata": {},
   "outputs": [
    {
     "data": {
      "image/png": "[encoded data removed]",
      "text/plain": [
       "<Figure size 720x576 with 1 Axes>"
      ]
     },
     "metadata": {
      "image/png": {
       "height": 481,
       "width": 606
      },
      "needs_background": "light"
     },
     "output_type": "display_data"
    }
   ],
   "source": [
    "plt.figure(figsize=(10, 8))\n",
    "plt.title('Распределение фильмов по числу оценок')\n",
    "plt.hist(num_ratings.filter(lambda x: x < 1000 and x > 100).collect())\n",
    "plt.show()"
   ]
  },
  {
   "cell_type": "markdown",
   "metadata": {},
   "source": [
    "### Распределение фильмов по жанрам\n",
    "\n",
    "Построить гистограмму распределения фильмов по жанрам. Обратите внимание, что у фильма может быть указано больше одного жанра."
   ]
  },
  {
   "cell_type": "code",
   "execution_count": 201,
   "metadata": {},
   "outputs": [],
   "source": [
    "movies = sc.textFile(MOVIES_PATH)"
   ]
  },
  {
   "cell_type": "code",
   "execution_count": 202,
   "metadata": {},
   "outputs": [
    {
     "data": {
      "text/plain": [
       "['movieId,title,genres',\n",
       " '1,Toy Story (1995),Adventure|Animation|Children|Comedy|Fantasy',\n",
       " '2,Jumanji (1995),Adventure|Children|Fantasy',\n",
       " '3,Grumpier Old Men (1995),Comedy|Romance',\n",
       " '4,Waiting to Exhale (1995),Comedy|Drama|Romance']"
      ]
     },
     "execution_count": 202,
     "metadata": {},
     "output_type": "execute_result"
    }
   ],
   "source": [
    "movies.take(5)"
   ]
  },
  {
   "cell_type": "code",
   "execution_count": 207,
   "metadata": {},
   "outputs": [
    {
     "data": {
      "text/plain": [
       "[['Adventure', 'Animation', 'Children', 'Comedy', 'Fantasy'],\n",
       " ['Adventure', 'Children', 'Fantasy'],\n",
       " ['Comedy', 'Romance'],\n",
       " ['Comedy', 'Drama', 'Romance'],\n",
       " ['Comedy'],\n",
       " ['Action', 'Crime', 'Thriller'],\n",
       " ['Comedy', 'Romance'],\n",
       " ['Adventure', 'Children'],\n",
       " ['Action'],\n",
       " ['Action', 'Adventure', 'Thriller']]"
      ]
     },
     "execution_count": 207,
     "metadata": {},
     "output_type": "execute_result"
    }
   ],
   "source": [
    "movies\\\n",
    "    .map(lambda s: s.split(','))\\\n",
    "    .filter(lambda arr: arr[0].isdigit())\\\n",
    "    .map(lambda x: x[-1].split('|')).take(10)"
   ]
  },
  {
   "cell_type": "code",
   "execution_count": 250,
   "metadata": {},
   "outputs": [],
   "source": [
    "all_genres = movies\\\n",
    "            .map(lambda s: s.split(','))\\\n",
    "            .filter(lambda arr: arr[0].isdigit())\\\n",
    "            .map(lambda x: x[-1].split('|'))\\\n",
    "            .flatMap(lambda x: x)\\\n",
    "            .filter(lambda x: x != '(no genres listed)')"
   ]
  },
  {
   "cell_type": "code",
   "execution_count": 251,
   "metadata": {},
   "outputs": [],
   "source": [
    "counts = all_genres.countByValue()"
   ]
  },
  {
   "cell_type": "code",
   "execution_count": 252,
   "metadata": {},
   "outputs": [],
   "source": [
    "genres, counts = zip(*sorted(list(counts.items()), key=lambda x: -x[1]))"
   ]
  },
  {
   "cell_type": "code",
   "execution_count": 255,
   "metadata": {},
   "outputs": [
    {
     "data": {
      "image/png": "[encoded data removed]",
      "text/plain": [
       "<Figure size 720x432 with 1 Axes>"
      ]
     },
     "metadata": {
      "image/png": {
       "height": 465,
       "width": 613
      },
      "needs_background": "light"
     },
     "output_type": "display_data"
    }
   ],
   "source": [
    "f, ax = plt.subplots(figsize=(10, 6))\n",
    "plt.xticks(rotation=85, fontsize=15)\n",
    "plt.bar(genres, counts, align=\"center\")\n",
    "plt.title('Распределение фильмов по жанрам')\n",
    "plt.show()"
   ]
  },
  {
   "cell_type": "markdown",
   "metadata": {},
   "source": [
    "### Актеры\n",
    "\n",
    "Для решения задач ниже нужно воспользоваться файлами `ratings.csv`, `movies.csv`, `links.csv` и `tmdb.json`.\n",
    "\n",
    "* `links.csv` - задает отображение из `movie_id` в `tmdb_movie_id` (подробное описание в `ml-25m-README.htm`)\n",
    "* `tmdb.json` - содержит большое количество данных о фильмах в формате json (на каждой строчке отдельный json)\n",
    "\n",
    "Задачи\n",
    "\n",
    "1. Найти все фильмы, в которых играл `\"id\":31, \"name\":\"Tom Hanks\"`\n",
    "2. Найти 10 актеров снявшихся в наибольшем числе фильмов. Вывести их имена и кол-во фильмов, в которых они снимались"
   ]
  },
  {
   "cell_type": "code",
   "execution_count": 383,
   "metadata": {},
   "outputs": [],
   "source": [
    "ratings = sc.textFile(RATINGS_PATH)\n",
    "movies = sc.textFile(MOVIES_PATH)\n",
    "links = sc.textFile(LINKS_PATH)\n",
    "tmdb = sc.textFile(TMDB_PATH)"
   ]
  },
  {
   "cell_type": "code",
   "execution_count": 404,
   "metadata": {},
   "outputs": [],
   "source": [
    "movies = movies \\\n",
    "    .map(lambda s: s.split(',')[:2]) \\\n",
    "    .filter(lambda arr: arr[0].isdigit()) \\\n",
    "    .keyBy(lambda arr: int(arr[0]))"
   ]
  },
  {
   "cell_type": "code",
   "execution_count": 358,
   "metadata": {},
   "outputs": [
    {
     "data": {
      "text/plain": [
       "['movieId,imdbId,tmdbId', '1,0114709,862']"
      ]
     },
     "execution_count": 358,
     "metadata": {},
     "output_type": "execute_result"
    }
   ],
   "source": [
    "links.take(2)"
   ]
  },
  {
   "cell_type": "code",
   "execution_count": 374,
   "metadata": {},
   "outputs": [],
   "source": [
    "tmdb2id = links\\\n",
    "        .map(lambda s: s.split(','))\\\n",
    "        .filter(lambda arr: arr[0].isdigit() and arr[2].isdigit())\\\n",
    "        .map(lambda x: (int(x[2]), int(x[0])))"
   ]
  },
  {
   "cell_type": "code",
   "execution_count": 414,
   "metadata": {},
   "outputs": [],
   "source": [
    "tmdb = tmdb\\\n",
    "       .map(lambda s: json.loads(s))\\\n",
    "       .filter(lambda x: 'id' in x)"
   ]
  },
  {
   "cell_type": "markdown",
   "metadata": {},
   "source": [
    "#### Про Тома Хэнкса"
   ]
  },
  {
   "cell_type": "code",
   "execution_count": 415,
   "metadata": {},
   "outputs": [],
   "source": [
    "def leave_Tom_Hanks(cast_list):\n",
    "    for character in cast_list:\n",
    "        if character['id'] == 31 and character['name'] == 'Tom Hanks': # на всякий случай\n",
    "            return True\n",
    "    return False"
   ]
  },
  {
   "cell_type": "code",
   "execution_count": 416,
   "metadata": {},
   "outputs": [],
   "source": [
    "tom_hanks_movies_tmdb = tmdb\\\n",
    "                        .map(lambda x: (int(x['id']), x['casts']['cast']))\\\n",
    "                        .filter(lambda x: leave_Tom_Hanks(x[1]))\\\n",
    "                        .map(lambda x: (x[0], 0))"
   ]
  },
  {
   "cell_type": "code",
   "execution_count": 417,
   "metadata": {},
   "outputs": [],
   "source": [
    "tom_hanks_movies = tom_hanks_movies_tmdb.join(tmdb2id).map(lambda x: (x[1][1], 0))"
   ]
  },
  {
   "cell_type": "code",
   "execution_count": 418,
   "metadata": {},
   "outputs": [
    {
     "data": {
      "text/plain": [
       "[(539, 'Sleepless in Seattle (1993)'),\n",
       " (581, '\"Celluloid Closet'),\n",
       " (117684, 'Elvis Has Left the Building (2004)'),\n",
       " (2072, '\"\\'burbs'),\n",
       " (2100, 'Splash (1984)'),\n",
       " (183043, 'Every Time We Say Goodbye (1986)'),\n",
       " (3255, '\"League of Their Own'),\n",
       " (105504, 'Captain Phillips (2013)'),\n",
       " (106022, 'Toy Story of Terror (2013)'),\n",
       " (73472, 'Shooting War (2000)'),\n",
       " (107352, 'Killing Lincoln (2013)'),\n",
       " (1, 'Toy Story (1995)'),\n",
       " (132070, 'And the Oscar Goes To... (2014)'),\n",
       " (3130, 'Bonfire of the Vanities (1990)'),\n",
       " (4012, 'Punchline (1988)'),\n",
       " (4677, 'Turner & Hooch (1989)'),\n",
       " (54272, '\"Simpsons Movie'),\n",
       " (87522, 'Larry Crowne (2011)'),\n",
       " (115879, 'Toy Story Toons: Small Fry (2011)'),\n",
       " (8884, '\"Man with One Red Shoe'),\n",
       " (78499, 'Toy Story 3 (2010)'),\n",
       " (160980, 'Sully (2016)'),\n",
       " (178529, 'Mazes and Monsters (1982)'),\n",
       " (195063, 'Magnificent Desolation: Walking on the Moon (2005)'),\n",
       " (180497, 'The Post (2017)'),\n",
       " (2375, '\"Money Pit'),\n",
       " (2424, \"You've Got Mail (1998)\"),\n",
       " (201588, 'Toy Story 4 (2019)'),\n",
       " (185579, 'California Typewriter (2017)'),\n",
       " (7030, 'Radio Flyer (1992)'),\n",
       " (150, 'Apollo 13 (1995)'),\n",
       " (83219, '\"Pixar Story'),\n",
       " (2418, 'Nothing in Common (1986)'),\n",
       " (68554, 'Angels & Demons (2009)'),\n",
       " (200980, '\"The Mayo Clinic'),\n",
       " (45447, '\"Da Vinci Code'),\n",
       " (5183, \"He Knows You're Alone (a.k.a. Blood Wedding) (1980)\"),\n",
       " (7367, '\"Ladykillers'),\n",
       " (8529, '\"Terminal'),\n",
       " (91325, 'Extremely Loud and Incredibly Close (2011)'),\n",
       " (45517, 'Cars (2006)'),\n",
       " (508, 'Philadelphia (1993)'),\n",
       " (2930, 'Return with Honor (1998)'),\n",
       " (2797, 'Big (1988)'),\n",
       " (3147, '\"Green Mile'),\n",
       " (3385, 'Volunteers (1985)'),\n",
       " (3525, 'Bachelor Party (1984)'),\n",
       " (4022, 'Cast Away (2000)'),\n",
       " (5303, 'Joe Versus the Volcano (1990)'),\n",
       " (5464, 'Road to Perdition (2002)'),\n",
       " (120474, 'Toy Story That Time Forgot (2014)'),\n",
       " (5989, 'Catch Me If You Can (2002)'),\n",
       " (115875, 'Toy Story Toons: Hawaiian Vacation (2011)'),\n",
       " (56788, \"Charlie Wilson's War (2007)\"),\n",
       " (156104, 'Everything Is Copy (2015)'),\n",
       " (7102, 'Dragnet (1987)'),\n",
       " (158260, 'A Hologram for the King (2015)'),\n",
       " (143385, 'Bridge of Spies (2015)'),\n",
       " (97752, 'Cloud Atlas (2012)'),\n",
       " (120468, 'Toy Story Toons: Partysaurus Rex (2012)'),\n",
       " (2028, 'Saving Private Ryan (1998)'),\n",
       " (68444, '\"Great Buck Howard'),\n",
       " (183671, 'Spielberg (2017)'),\n",
       " (200744, 'Beyond Boundaries: The Harvey Weinstein Scandal (2018)'),\n",
       " (170665, 'Ithaca (2015)'),\n",
       " (8965, '\"Polar Express'),\n",
       " (159185, '\"Extraordinary Voyage'),\n",
       " (143365, 'The Circle (2016)'),\n",
       " (94729, 'Beyond All Boundaries (2009)'),\n",
       " (194402, 'Quincy (2018)'),\n",
       " (356, 'Forrest Gump (1994)'),\n",
       " (1042, 'That Thing You Do! (1996)'),\n",
       " (165101, 'Inferno (2016)'),\n",
       " (3114, 'Toy Story 2 (1999)'),\n",
       " (107141, 'Saving Mr. Banks (2013)'),\n",
       " (195173, \"Defying the Nazis: The Sharps' War (2016)\")]"
      ]
     },
     "execution_count": 418,
     "metadata": {},
     "output_type": "execute_result"
    }
   ],
   "source": [
    "tom_hanks_movies.join(movies).map(lambda x: (x[0], x[1][1][1])).collect()"
   ]
  },
  {
   "cell_type": "markdown",
   "metadata": {},
   "source": [
    "#### актеры, снявшиеся в наибольшем количестве фильмов"
   ]
  },
  {
   "cell_type": "code",
   "execution_count": 429,
   "metadata": {},
   "outputs": [],
   "source": [
    "film2act = tmdb\\\n",
    "           .map(lambda x: (int(x['id']), x['casts']['cast']))\\\n",
    "           .flatMapValues(lambda x: (character['name'] for character in x))"
   ]
  },
  {
   "cell_type": "code",
   "execution_count": 448,
   "metadata": {},
   "outputs": [
    {
     "data": {
      "text/plain": [
       "[('Bess Flowers', 380),\n",
       " ('Frank Welker', 184),\n",
       " ('Christopher Lee', 175),\n",
       " ('Clarence Nash', 158),\n",
       " ('Irving Bacon', 152),\n",
       " ('John Carradine', 146),\n",
       " ('John Wayne', 142),\n",
       " ('Mel Blanc', 140),\n",
       " ('Samuel L. Jackson', 134),\n",
       " ('Eric Roberts', 133)]"
      ]
     },
     "execution_count": 448,
     "metadata": {},
     "output_type": "execute_result"
    }
   ],
   "source": [
    "film2act\\\n",
    ".map(lambda x: (x[1], 1))\\\n",
    ".reduceByKey(lambda a, b: a + b)\\\n",
    ".sortBy(lambda x: x[1], ascending=False).take(10)"
   ]
  },
  {
   "cell_type": "markdown",
   "metadata": {},
   "source": [
    "### Доля жанра в течении времени\n",
    "\n",
    "Для каждого жанра нужно построить как менялась доля вышедших фильмов данного жанра относительно всех остальных жанров.\n",
    "\n",
    "Дату выхода фильма можно взять из файла `tmdb.json`.\n",
    "\n",
    "(См. `plt.stackplot`)"
   ]
  },
  {
   "cell_type": "code",
   "execution_count": 521,
   "metadata": {},
   "outputs": [],
   "source": [
    "tmdb2year = tmdb\\\n",
    "            .filter(lambda x: x['release_date'][:4].isdigit())\\\n",
    "            .map(lambda x: (int(x['id']), int(x['release_date'][:4])))"
   ]
  },
  {
   "cell_type": "code",
   "execution_count": 529,
   "metadata": {},
   "outputs": [],
   "source": [
    "movie2year = tmdb2year\\\n",
    "                .join(tmdb2id)\\\n",
    "                .map(lambda x: (x[1][1], x[1][0]))"
   ]
  },
  {
   "cell_type": "code",
   "execution_count": 532,
   "metadata": {},
   "outputs": [
    {
     "data": {
      "text/plain": [
       "[(100595, 2011),\n",
       " (51933, 2007),\n",
       " (147308, 2008),\n",
       " (174261, 1909),\n",
       " (8921, 1955),\n",
       " (187777, 1972),\n",
       " (6770, 2003),\n",
       " (148805, 2014),\n",
       " (159692, 2008),\n",
       " (206785, 2016)]"
      ]
     },
     "execution_count": 532,
     "metadata": {},
     "output_type": "execute_result"
    }
   ],
   "source": [
    "movie2year.take(10)"
   ]
  },
  {
   "cell_type": "code",
   "execution_count": 533,
   "metadata": {},
   "outputs": [],
   "source": [
    "movie_genre_pairs = movies\\\n",
    "                    .map(lambda s: s.split(','))\\\n",
    "                    .filter(lambda arr: arr[0].isdigit())\\\n",
    "                    .map(lambda x: (int(x[0]), x[-1].split('|')))\\\n",
    "                    .flatMapValues(lambda x: x)"
   ]
  },
  {
   "cell_type": "code",
   "execution_count": 536,
   "metadata": {},
   "outputs": [
    {
     "data": {
      "text/plain": [
       "[(1, 'Adventure'),\n",
       " (1, 'Animation'),\n",
       " (1, 'Children'),\n",
       " (1, 'Comedy'),\n",
       " (1, 'Fantasy'),\n",
       " (2, 'Adventure'),\n",
       " (2, 'Children'),\n",
       " (2, 'Fantasy'),\n",
       " (3, 'Comedy'),\n",
       " (3, 'Romance')]"
      ]
     },
     "execution_count": 536,
     "metadata": {},
     "output_type": "execute_result"
    }
   ],
   "source": [
    "movie_genre_pairs.take(10)"
   ]
  },
  {
   "cell_type": "code",
   "execution_count": 543,
   "metadata": {},
   "outputs": [],
   "source": [
    "genre_year_pairs = movie_genre_pairs\\\n",
    "                    .join(movie2year)\\\n",
    "                    .map(lambda x: x[1])\\\n",
    "                    .filter(lambda x: x[0] != '(no genres listed)')"
   ]
  },
  {
   "cell_type": "code",
   "execution_count": 544,
   "metadata": {},
   "outputs": [
    {
     "data": {
      "text/plain": [
       "[('Comedy', 2015),\n",
       " ('Horror', 2015),\n",
       " ('Drama', 2007),\n",
       " ('Romance', 2007),\n",
       " ('Horror', 2001),\n",
       " ('Comedy', 1995),\n",
       " ('Romance', 1995),\n",
       " ('Drama', 2016),\n",
       " ('Documentary', 2009),\n",
       " ('Drama', 1966)]"
      ]
     },
     "execution_count": 544,
     "metadata": {},
     "output_type": "execute_result"
    }
   ],
   "source": [
    "genre_year_pairs.take(10)"
   ]
  },
  {
   "cell_type": "code",
   "execution_count": 550,
   "metadata": {},
   "outputs": [
    {
     "data": {
      "text/plain": [
       "[((2015, 'Comedy'), 1),\n",
       " ((2015, 'Horror'), 1),\n",
       " ((1972, 'Comedy'), 1),\n",
       " ((1972, 'Horror'), 1),\n",
       " ((2001, 'Horror'), 1),\n",
       " ((1995, 'Comedy'), 1),\n",
       " ((1995, 'Romance'), 1),\n",
       " ((1934, 'Romance'), 1),\n",
       " ((1934, 'War'), 1),\n",
       " ((2009, 'Documentary'), 1)]"
      ]
     },
     "execution_count": 550,
     "metadata": {},
     "output_type": "execute_result"
    }
   ],
   "source": [
    "genre_year_pairs\\\n",
    "                .map(lambda x: ((x[1], x[0]), 1)).take(10)"
   ]
  },
  {
   "cell_type": "code",
   "execution_count": 554,
   "metadata": {},
   "outputs": [
    {
     "data": {
      "text/plain": [
       "106228"
      ]
     },
     "execution_count": 554,
     "metadata": {},
     "output_type": "execute_result"
    }
   ],
   "source": [
    "genre_year_pairs\\\n",
    "                .map(lambda x: ((x[1], x[0]), 1)).c"
   ]
  },
  {
   "cell_type": "code",
   "execution_count": 555,
   "metadata": {},
   "outputs": [],
   "source": [
    "year_genre_count = genre_year_pairs\\\n",
    "                    .map(lambda x: ((x[1], x[0]), 1))\\\n",
    "                    .reduceByKey(lambda a, b: a + b)"
   ]
  },
  {
   "cell_type": "code",
   "execution_count": 556,
   "metadata": {},
   "outputs": [
    {
     "data": {
      "text/plain": [
       "[((2001, 'Documentary'), 84),\n",
       " ((1947, 'Musical'), 9),\n",
       " ((1977, 'Animation'), 23),\n",
       " ((1951, 'Drama'), 125),\n",
       " ((1976, 'Children'), 23),\n",
       " ((1921, 'Crime'), 1),\n",
       " ((1983, 'Animation'), 19),\n",
       " ((1977, 'Documentary'), 20),\n",
       " ((1981, 'Romance'), 45),\n",
       " ((1908, 'Drama'), 2)]"
      ]
     },
     "execution_count": 556,
     "metadata": {},
     "output_type": "execute_result"
    }
   ],
   "source": [
    "year_genre_count.take(10)"
   ]
  },
  {
   "cell_type": "code",
   "execution_count": 557,
   "metadata": {},
   "outputs": [
    {
     "data": {
      "text/plain": [
       "[(2001, ('Documentary', 84)),\n",
       " (1947, ('Musical', 9)),\n",
       " (1977, ('Animation', 23)),\n",
       " (1951, ('Drama', 125)),\n",
       " (1976, ('Children', 23)),\n",
       " (1921, ('Crime', 1)),\n",
       " (1983, ('Animation', 19)),\n",
       " (1977, ('Documentary', 20)),\n",
       " (1981, ('Romance', 45)),\n",
       " (1908, ('Drama', 2))]"
      ]
     },
     "execution_count": 557,
     "metadata": {},
     "output_type": "execute_result"
    }
   ],
   "source": [
    "year_genre_count.map(lambda x: (x[0][0], (x[0][1], x[1]))).take(10)"
   ]
  },
  {
   "cell_type": "code",
   "execution_count": 574,
   "metadata": {},
   "outputs": [],
   "source": [
    "year2genres_counts = year_genre_count\\\n",
    "                    .map(lambda x: (x[0][0], [(x[0][1], x[1])]))\\\n",
    "                    .reduceByKey(lambda a, b: a + b).collect()"
   ]
  },
  {
   "cell_type": "code",
   "execution_count": 584,
   "metadata": {},
   "outputs": [],
   "source": [
    "genres2years_counts = year_genre_count\\\n",
    "                        .map(lambda x: (x[0][1], [(x[0][0], x[1])]))\\\n",
    "                        .reduceByKey(lambda a, b: a + b).collect()"
   ]
  },
  {
   "cell_type": "markdown",
   "metadata": {},
   "source": [
    "### Окупаемость фильмов\n",
    "\n",
    "Для каждого жанра посчитать `ROI = mean(revenue) / mean(budget)` и построить `barplot`, где по оси x будет название жанра, а по оси y - `ROI`\n",
    "\n",
    "Данные о `revenue` и `budget` можно найти в файле `tmdb.json`."
   ]
  },
  {
   "cell_type": "code",
   "execution_count": 507,
   "metadata": {},
   "outputs": [],
   "source": [
    "tmdb2money = tmdb\\\n",
    "             .filter(lambda x: x['revenue'] > 0 and x['budget'] > 0)\\\n",
    "             .map(lambda x: (int(x['id']), (x['revenue'], x['budget'])))"
   ]
  },
  {
   "cell_type": "code",
   "execution_count": 508,
   "metadata": {},
   "outputs": [
    {
     "data": {
      "text/plain": [
       "[(862, (373554033, 30000000)), (8844, (262797249, 65000000))]"
      ]
     },
     "execution_count": 508,
     "metadata": {},
     "output_type": "execute_result"
    }
   ],
   "source": [
    "tmdb2money.take(2)"
   ]
  },
  {
   "cell_type": "code",
   "execution_count": 509,
   "metadata": {},
   "outputs": [
    {
     "data": {
      "text/plain": [
       "[(5, ((4257354, 4000000), 18)),\n",
       " (25, ((96889998, 72000000), 40278)),\n",
       " (35, ((527068851, 75000000), 54272)),\n",
       " (426030, ((15500000, 7154497), 184741)),\n",
       " (55, ((20908467, 2000000), 4235)),\n",
       " (65, ((242875078, 41000000), 5810)),\n",
       " (70, ((216763646, 30000000), 30707)),\n",
       " (75, ((101371017, 70000000), 1391)),\n",
       " (80, ((15992615, 2700000), 8638)),\n",
       " (32850, ((1129000, 1290000), 33113))]"
      ]
     },
     "execution_count": 509,
     "metadata": {},
     "output_type": "execute_result"
    }
   ],
   "source": [
    "tmdb2money.join(tmdb2id).take(10)"
   ]
  },
  {
   "cell_type": "code",
   "execution_count": 510,
   "metadata": {},
   "outputs": [],
   "source": [
    "movie2money = tmdb2money.join(tmdb2id).map(lambda x: (x[1][1], x[1][0]))"
   ]
  },
  {
   "cell_type": "code",
   "execution_count": 511,
   "metadata": {},
   "outputs": [],
   "source": [
    "movie_genre_pairs = movies\\\n",
    "                    .map(lambda s: s.split(','))\\\n",
    "                    .filter(lambda arr: arr[0].isdigit())\\\n",
    "                    .map(lambda x: (int(x[0]), x[-1].split('|')))\\\n",
    "                    .flatMapValues(lambda x: x)"
   ]
  },
  {
   "cell_type": "code",
   "execution_count": 512,
   "metadata": {},
   "outputs": [
    {
     "data": {
      "text/plain": [
       "[(7, ('Comedy', (53672080, 58000000))), (7, ('Romance', (53672080, 58000000)))]"
      ]
     },
     "execution_count": 512,
     "metadata": {},
     "output_type": "execute_result"
    }
   ],
   "source": [
    "movie_genre_pairs.join(movie2money).take(2)"
   ]
  },
  {
   "cell_type": "code",
   "execution_count": 513,
   "metadata": {},
   "outputs": [
    {
     "data": {
      "text/plain": [
       "[('Comedy', (53672080, 58000000, 1)), ('Romance', (53672080, 58000000, 1))]"
      ]
     },
     "execution_count": 513,
     "metadata": {},
     "output_type": "execute_result"
    }
   ],
   "source": [
    "movie_genre_pairs.join(movie2money).map(lambda x: (x[1][0], (*x[1][1], 1))).take(2)"
   ]
  },
  {
   "cell_type": "code",
   "execution_count": 514,
   "metadata": {},
   "outputs": [],
   "source": [
    "genre2ROI = movie_genre_pairs\\\n",
    "            .join(movie2money)\\\n",
    "            .map(lambda x: x[1])\\\n",
    "            .filter(lambda x: x[0] != '(no genres listed)')\\\n",
    "            .reduceByKey(lambda a, b: (a[0] + b[0], a[1] + b[1]))\\\n",
    "            .map(lambda x: (x[0], x[1][0] / x[1][1]))"
   ]
  },
  {
   "cell_type": "code",
   "execution_count": 515,
   "metadata": {},
   "outputs": [],
   "source": [
    "genres, rois = zip(*sorted(genre2ROI.collect(), key=lambda x: -x[1]))"
   ]
  },
  {
   "cell_type": "code",
   "execution_count": 516,
   "metadata": {},
   "outputs": [
    {
     "data": {
      "image/png": "[encoded data removed]",
      "text/plain": [
       "<Figure size 720x432 with 1 Axes>"
      ]
     },
     "metadata": {
      "image/png": {
       "height": 465,
       "width": 597
      },
      "needs_background": "light"
     },
     "output_type": "display_data"
    }
   ],
   "source": [
    "f, ax = plt.subplots(figsize=(10, 6))\n",
    "plt.xticks(rotation=85, fontsize=15)\n",
    "plt.bar(genres, rois, align=\"center\")\n",
    "plt.title('ROI для разных жанров')\n",
    "plt.show()"
   ]
  },
  {
   "cell_type": "code",
   "execution_count": null,
   "metadata": {},
   "outputs": [],
   "source": []
  }
 ],
 "metadata": {
  "kernelspec": {
   "display_name": "Python 3",
   "language": "python",
   "name": "python3"
  },
  "language_info": {
   "codemirror_mode": {
    "name": "ipython",
    "version": 3
   },
   "file_extension": ".py",
   "mimetype": "text/x-python",
   "name": "python",
   "nbconvert_exporter": "python",
   "pygments_lexer": "ipython3",
   "version": "3.5.9"
  }
 },
 "nbformat": 4,
 "nbformat_minor": 2
}
